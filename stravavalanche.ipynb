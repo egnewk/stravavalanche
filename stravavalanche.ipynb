{
 "cells": [
  {
   "cell_type": "code",
   "execution_count": 232,
   "metadata": {},
   "outputs": [],
   "source": [
    "import requests\n",
    "import pandas as pd\n",
    "import numpy as np\n",
    "import sys\n",
    "import os\n",
    "import time\n",
    "from stravaio import strava_oauth2\n",
    "from stravaio import StravaIO\n",
    "import polyline as pl"
   ]
  },
  {
   "cell_type": "markdown",
   "metadata": {},
   "source": [
    "# Authenticate with the Strava API\n",
    "You must set up your local environment with the following variables:\n",
    "\n",
    "`STRAVA_ACCESS_TOKEN`\n",
    "\n",
    "`STRAVA_CLIENT_ID`\n",
    "\n",
    "`STRAVA_CLIENT_SECRET`\n",
    "\n",
    "These can be found at https://www.strava.com/settings/api\n",
    "\n",
    "(If these environment variables are set, `strava_oauth2` requires no arguments. Alternatively, you may pass the ID and client secret as `strava_oauth2(client_id=[your id], client_secret=[your secret]`.)"
   ]
  },
  {
   "cell_type": "code",
   "execution_count": 233,
   "metadata": {},
   "outputs": [
    {
     "name": "stderr",
     "output_type": "stream",
     "text": [
      "2020-05-28 13:58:54.261 | INFO     | stravaio:strava_oauth2:343 - serving at port 8000\n",
      "2020-05-28 13:58:57.713 | DEBUG    | stravaio:run_server_and_wait_for_token:397 - code: e6c333a76cde9d43f967e9ee0b59c3a919217c3f\n",
      "2020-05-28 13:58:58.408 | DEBUG    | stravaio:run_server_and_wait_for_token:406 - Authorized athlete: fda5e02deba99b3ffd94062933fbb0f11f95f008\n"
     ]
    }
   ],
   "source": [
    "# Authenticate with Strava; opens a new tab for interactive authentication.\n",
    "client = strava_oauth2()"
   ]
  },
  {
   "cell_type": "code",
   "execution_count": 234,
   "metadata": {},
   "outputs": [],
   "source": [
    "os.environ[\"STRAVA_ACCESS_TOKEN\"]=client[\"access_token\"]"
   ]
  },
  {
   "cell_type": "code",
   "execution_count": 235,
   "metadata": {},
   "outputs": [],
   "source": [
    "# If the token is stored as an environment varible it is not neccessary\n",
    "# to pass it as an input parameters\n",
    "\n",
    "client = StravaIO()"
   ]
  },
  {
   "cell_type": "code",
   "execution_count": 236,
   "metadata": {},
   "outputs": [],
   "source": [
    "# Set up a requests Session for calls not already included in `stravaio`\n",
    "s = requests.Session()\n",
    "base_url = \"https://www.strava.com/api/v3\""
   ]
  },
  {
   "cell_type": "code",
   "execution_count": 237,
   "metadata": {},
   "outputs": [],
   "source": [
    "access_token = os.environ['STRAVA_ACCESS_TOKEN']\n",
    "\n",
    "s.headers.update(\n",
    "    {\n",
    "    \"Authorization\": f\"Bearer {access_token}\"\n",
    "    }\n",
    ")"
   ]
  },
  {
   "cell_type": "code",
   "execution_count": 238,
   "metadata": {},
   "outputs": [],
   "source": [
    "res = s.get(f\"{base_url}/athlete/clubs\")\n",
    "\n",
    "stravavalanche = res.json()[\n",
    "    [\"Fatty Fitness International\" in club[\"name\"] for club in res.json()].index(True)\n",
    "]\n",
    "\n",
    "strv_id = stravavalanche[\"id\"]"
   ]
  },
  {
   "cell_type": "markdown",
   "metadata": {},
   "source": [
    "The instantiated `StravaIO` object contains a great deal of metadata about your user. Run `client` in the cell below to take a gander."
   ]
  },
  {
   "cell_type": "code",
   "execution_count": 241,
   "metadata": {},
   "outputs": [
    {
     "name": "stdout",
     "output_type": "stream",
     "text": [
      "Fetched 30, the latests is on 2017-05-01 14:09:10+00:00\n",
      "Fetched 30, the latests is on 2017-10-25 20:22:10+00:00\n",
      "Fetched 30, the latests is on 2018-05-14 20:48:36+00:00\n",
      "Fetched 30, the latests is on 2018-09-20 00:01:00+00:00\n",
      "Fetched 30, the latests is on 2019-02-17 02:53:00+00:00\n",
      "Fetched 30, the latests is on 2019-04-21 21:08:04+00:00\n",
      "Fetched 30, the latests is on 2019-06-26 00:53:54+00:00\n",
      "Fetched 30, the latests is on 2019-08-10 04:42:58+00:00\n",
      "Fetched 30, the latests is on 2020-05-21 16:40:01+00:00\n",
      "Fetched 3, the latests is on 2020-05-25 23:04:43+00:00\n"
     ]
    },
    {
     "ename": "TypeError",
     "evalue": "list indices must be integers or slices, not str",
     "output_type": "error",
     "traceback": [
      "\u001b[0;31m---------------------------------------------------------------------------\u001b[0m",
      "\u001b[0;31mTypeError\u001b[0m                                 Traceback (most recent call last)",
      "\u001b[0;32m<ipython-input-241-310cefd5075a>\u001b[0m in \u001b[0;36m<module>\u001b[0;34m\u001b[0m\n\u001b[1;32m      1\u001b[0m \u001b[0mdf\u001b[0m \u001b[0;34m=\u001b[0m \u001b[0mclient\u001b[0m\u001b[0;34m.\u001b[0m\u001b[0mget_logged_in_athlete_activities\u001b[0m\u001b[0;34m(\u001b[0m\u001b[0;34m)\u001b[0m\u001b[0;34m\u001b[0m\u001b[0;34m\u001b[0m\u001b[0m\n\u001b[0;32m----> 2\u001b[0;31m \u001b[0mski_days\u001b[0m \u001b[0;34m=\u001b[0m \u001b[0mdf\u001b[0m\u001b[0;34m[\u001b[0m\u001b[0mdf\u001b[0m\u001b[0;34m[\u001b[0m\u001b[0;34m\"type\"\u001b[0m\u001b[0;34m]\u001b[0m\u001b[0;34m==\u001b[0m\u001b[0;34m\"BackcountrySki\"\u001b[0m\u001b[0;34m]\u001b[0m\u001b[0;34m\u001b[0m\u001b[0;34m\u001b[0m\u001b[0m\n\u001b[0m",
      "\u001b[0;31mTypeError\u001b[0m: list indices must be integers or slices, not str"
     ]
    }
   ],
   "source": [
    "df = client.get_logged_in_athlete_activities()\n",
    "ski_days = df[df[\"type\"]==\"BackcountrySki\"]"
   ]
  },
  {
   "cell_type": "code",
   "execution_count": null,
   "metadata": {},
   "outputs": [],
   "source": [
    "metadata = ski_days[[\"id\", \"athlete\", \"distance\", \"elapsed_time\", \"elev_high\", \"elev_low\", \"athlete_count\"]]\n",
    "def get_polyline_from_id(_id):\n",
    "#     activity = client.get_activity_by_id(_id)\n",
    "    activity = s.get(f\"{base_url}/activities/{_id}\").json()\n",
    "    return pl.decode(activity[\"map\"][\"summary_polyline\"])\n",
    "    \n",
    "metadata[\"polyline\"] = ski_days[\"id\"].apply(lambda x: get_polyline_from_id(x))\n",
    "metadata.reset_index(inplace=True, drop=True)"
   ]
  },
  {
   "cell_type": "code",
   "execution_count": 242,
   "metadata": {},
   "outputs": [
    {
     "data": {
      "text/html": [
       "<div>\n",
       "<style scoped>\n",
       "    .dataframe tbody tr th:only-of-type {\n",
       "        vertical-align: middle;\n",
       "    }\n",
       "\n",
       "    .dataframe tbody tr th {\n",
       "        vertical-align: top;\n",
       "    }\n",
       "\n",
       "    .dataframe thead th {\n",
       "        text-align: right;\n",
       "    }\n",
       "</style>\n",
       "<table border=\"1\" class=\"dataframe\">\n",
       "  <thead>\n",
       "    <tr style=\"text-align: right;\">\n",
       "      <th></th>\n",
       "      <th>index</th>\n",
       "      <th>id</th>\n",
       "      <th>athlete</th>\n",
       "      <th>distance</th>\n",
       "      <th>elapsed_time</th>\n",
       "      <th>elev_high</th>\n",
       "      <th>elev_low</th>\n",
       "      <th>athlete_count</th>\n",
       "      <th>polyline</th>\n",
       "    </tr>\n",
       "  </thead>\n",
       "  <tbody>\n",
       "    <tr>\n",
       "      <th>0</th>\n",
       "      <td>62</td>\n",
       "      <td>1261428977</td>\n",
       "      <td>6434174</td>\n",
       "      <td>11452.5</td>\n",
       "      <td>16587</td>\n",
       "      <td>2955.0</td>\n",
       "      <td>2082.0</td>\n",
       "      <td>1</td>\n",
       "      <td>[(45.81787, -110.8961), (45.81827, -110.90063)...</td>\n",
       "    </tr>\n",
       "    <tr>\n",
       "      <th>1</th>\n",
       "      <td>69</td>\n",
       "      <td>1327173667</td>\n",
       "      <td>6434174</td>\n",
       "      <td>10015.2</td>\n",
       "      <td>6814</td>\n",
       "      <td>2398.5</td>\n",
       "      <td>1632.0</td>\n",
       "      <td>1</td>\n",
       "      <td>[(45.6091, -110.92453), (45.60694, -110.92616)...</td>\n",
       "    </tr>\n",
       "    <tr>\n",
       "      <th>2</th>\n",
       "      <td>147</td>\n",
       "      <td>2086163817</td>\n",
       "      <td>6434174</td>\n",
       "      <td>2405.6</td>\n",
       "      <td>2006</td>\n",
       "      <td>1858.3</td>\n",
       "      <td>1647.0</td>\n",
       "      <td>1</td>\n",
       "      <td>[(45.60891, -110.92477), (45.60729, -110.92489...</td>\n",
       "    </tr>\n",
       "    <tr>\n",
       "      <th>3</th>\n",
       "      <td>148</td>\n",
       "      <td>2240851047</td>\n",
       "      <td>6434174</td>\n",
       "      <td>5434.9</td>\n",
       "      <td>2829</td>\n",
       "      <td>1859.7</td>\n",
       "      <td>1643.0</td>\n",
       "      <td>2</td>\n",
       "      <td>[(45.6092, -110.92431), (45.609, -110.92408), ...</td>\n",
       "    </tr>\n",
       "  </tbody>\n",
       "</table>\n",
       "</div>"
      ],
      "text/plain": [
       "   index          id  athlete  distance  elapsed_time  elev_high  elev_low  \\\n",
       "0     62  1261428977  6434174   11452.5         16587     2955.0    2082.0   \n",
       "1     69  1327173667  6434174   10015.2          6814     2398.5    1632.0   \n",
       "2    147  2086163817  6434174    2405.6          2006     1858.3    1647.0   \n",
       "3    148  2240851047  6434174    5434.9          2829     1859.7    1643.0   \n",
       "\n",
       "   athlete_count                                           polyline  \n",
       "0              1  [(45.81787, -110.8961), (45.81827, -110.90063)...  \n",
       "1              1  [(45.6091, -110.92453), (45.60694, -110.92616)...  \n",
       "2              1  [(45.60891, -110.92477), (45.60729, -110.92489...  \n",
       "3              2  [(45.6092, -110.92431), (45.609, -110.92408), ...  "
      ]
     },
     "execution_count": 242,
     "metadata": {},
     "output_type": "execute_result"
    }
   ],
   "source": [
    "metadata"
   ]
  },
  {
   "cell_type": "markdown",
   "metadata": {},
   "source": [
    "# Step 2: Get GIS data "
   ]
  },
  {
   "cell_type": "code",
   "execution_count": null,
   "metadata": {},
   "outputs": [],
   "source": []
  }
 ],
 "metadata": {
  "kernelspec": {
   "display_name": "Python 3",
   "language": "python",
   "name": "python3"
  },
  "language_info": {
   "codemirror_mode": {
    "name": "ipython",
    "version": 3
   },
   "file_extension": ".py",
   "mimetype": "text/x-python",
   "name": "python",
   "nbconvert_exporter": "python",
   "pygments_lexer": "ipython3",
   "version": "3.6.9"
  }
 },
 "nbformat": 4,
 "nbformat_minor": 4
}
